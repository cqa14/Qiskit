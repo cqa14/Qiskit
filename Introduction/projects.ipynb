{
 "cells": [
  {
   "attachments": {},
   "cell_type": "markdown",
   "metadata": {},
   "source": [
    "# Projects exercices"
   ]
  },
  {
   "attachments": {},
   "cell_type": "markdown",
   "metadata": {},
   "source": [
    "> Create a program that builds an oracle for a given string (e.g. given 01101, will return a QuantumCircuit that inverts the phase of the state |01101> and leaves all other states unchanged."
   ]
  },
  {
   "cell_type": "code",
   "execution_count": 81,
   "metadata": {},
   "outputs": [
    {
     "name": "stdout",
     "output_type": "stream",
     "text": [
      "Valid bits given...\n"
     ]
    },
    {
     "data": {
      "image/png": "[encoded data removed]",
      "text/plain": [
       "<Figure size 371.107x284.278 with 1 Axes>"
      ]
     },
     "metadata": {},
     "output_type": "display_data"
    },
    {
     "data": {
      "text/latex": [
       "$$\n",
       "\n",
       "\\begin{bmatrix}\n",
       "1 & 0 & 0 & 0 & 0 & 0 & 0 & 0  \\\\\n",
       " 0 & 1 & 0 & 0 & 0 & 0 & 0 & 0  \\\\\n",
       " 0 & 0 & 1 & 0 & 0 & 0 & 0 & 0  \\\\\n",
       " 0 & 0 & 0 & 1 & 0 & 0 & 0 & 0  \\\\\n",
       " 0 & 0 & 0 & 0 & 1 & 0 & 0 & 0  \\\\\n",
       " 0 & 0 & 0 & 0 & 0 & -1 & 0 & 0  \\\\\n",
       " 0 & 0 & 0 & 0 & 0 & 0 & 1 & 0  \\\\\n",
       " 0 & 0 & 0 & 0 & 0 & 0 & 0 & 1  \\\\\n",
       " \\end{bmatrix}\n",
       "$$"
      ],
      "text/plain": [
       "<IPython.core.display.Latex object>"
      ]
     },
     "metadata": {},
     "output_type": "display_data"
    }
   ],
   "source": [
    "from qiskit import QuantumCircuit\n",
    "from qiskit.circuit.library import MCMT\n",
    "\n",
    "from qiskit import Aer\n",
    "from qiskit.visualization import array_to_latex\n",
    "\n",
    "# test the validity of the bits\n",
    "def test_validity(bits):\n",
    "    for bit in bits:\n",
    "        if bit != '0' and bit != '1':\n",
    "            return False\n",
    "        \n",
    "    return True\n",
    "\n",
    "# display the unitary matrix, for debugging purposes\n",
    "def display_unitary(qc, prefix=\"\"):\n",
    "    \"\"\"Simulate the circuit and display the unitary matrix.\n",
    "\n",
    "    Args:\n",
    "        qc (QuantumCircuit): The circuit to compile to a unitary matrix.\n",
    "        prefix (str): Optional LaTeX prefix for the matrix.\n",
    "    Returns:\n",
    "        None (displays matrix as side effect)\n",
    "    \"\"\"\n",
    "    \n",
    "    sim = Aer.get_backend('aer_simulator')\n",
    "    # Next, we'll create a copy of the circuit and work on\n",
    "    # that so we don't change anything as a side effect.\n",
    "    qc = qc.decompose().copy()\n",
    "    # Tell the simulator to save the unitary matrix\n",
    "    qc.save_unitary()\n",
    "    unitary = sim.run(qc).result().get_unitary()\n",
    "    display(array_to_latex(unitary, prefix=prefix))\n",
    "    \n",
    "# inverse the '0' bit\n",
    "def inverse_zero(qc, bits):\n",
    "        # loop through the bits\n",
    "        for i in range(len(bits)):\n",
    "            # then inverse the '0' bit\n",
    "            if bits[i] == '0':\n",
    "                qc.x(i)\n",
    "\n",
    "###\n",
    "# Main function\n",
    "###\n",
    "def createOracle(bits, debug=False):\n",
    "    \"\"\"Create an oracle for some bits given\n",
    "\n",
    "    Args:\n",
    "        bits (string): Bits to create the oracle for\n",
    "        debug (bool, optional): Debug functions. Defaults to False.\n",
    "    Returns:\n",
    "        qc (QuantumCircuit): The circuit for the oracle\n",
    "    \"\"\"\n",
    "    \n",
    "    # Check if bits are valid\n",
    "    if test_validity(bits) == False:\n",
    "        print(\"Invalid bits given\")\n",
    "        return\n",
    "    else:\n",
    "        print(\"Valid bits given...\")\n",
    "        \n",
    "        # Create the circuit\n",
    "        qc = QuantumCircuit(len(bits))\n",
    "        \n",
    "        # inverse a first time\n",
    "        inverse_zero(qc, bits)\n",
    "                \n",
    "        # change the phase of the circuit\n",
    "        match len(bits):\n",
    "            case 1:\n",
    "                qc.z(0)\n",
    "            case 2:\n",
    "                qc.cz(0, 1)\n",
    "            case _: # same as 2 qbits, but multicontrolled\n",
    "                qc = qc.compose(MCMT('cz', len(bits)-1, 1))\n",
    "        \n",
    "        # back to the 'original' state\n",
    "        inverse_zero(qc, bits)\n",
    "        \n",
    "        # Debug functions\n",
    "        if debug == True:\n",
    "            display(qc.draw('mpl'))\n",
    "            display_unitary(qc)\n",
    "            \n",
    "        measure = QuantumCircuit(len(bits))\n",
    "        measure.barrier()\n",
    "        measure.measure_all()\n",
    "            \n",
    "        return qc\n",
    "\n",
    "###\n",
    "# Run the code\n",
    "###       \n",
    "oracle = createOracle('101', debug=True)\n",
    "    "
   ]
  }
 ],
 "metadata": {
  "kernelspec": {
   "display_name": "qiskit",
   "language": "python",
   "name": "python3"
  },
  "language_info": {
   "codemirror_mode": {
    "name": "ipython",
    "version": 3
   },
   "file_extension": ".py",
   "mimetype": "text/x-python",
   "name": "python",
   "nbconvert_exporter": "python",
   "pygments_lexer": "ipython3",
   "version": "3.10.8 | packaged by conda-forge | (main, Nov 24 2022, 14:07:00) [MSC v.1916 64 bit (AMD64)]"
  },
  "orig_nbformat": 4,
  "vscode": {
   "interpreter": {
    "hash": "8ac250f5c06efe43a33b813f68ddc45d6fc74b88e11ac437a7c4f4be1526e100"
   }
  }
 },
 "nbformat": 4,
 "nbformat_minor": 2
}
