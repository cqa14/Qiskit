{
 "cells": [
  {
   "attachments": {},
   "cell_type": "markdown",
   "metadata": {},
   "source": [
    "# CX (CNOT) gate"
   ]
  },
  {
   "cell_type": "code",
   "execution_count": 2,
   "metadata": {},
   "outputs": [
    {
     "data": {
      "text/latex": [
       "$$ |00\\rangle$$"
      ],
      "text/plain": [
       "<IPython.core.display.Latex object>"
      ]
     },
     "execution_count": 2,
     "metadata": {},
     "output_type": "execute_result"
    }
   ],
   "source": [
    "from qiskit import QuantumCircuit\n",
    "from qiskit.quantum_info import Statevector\n",
    "\n",
    "qc = QuantumCircuit(2)\n",
    "\n",
    "# This calculates the statevector after the circuit\n",
    "ket = Statevector(qc)\n",
    "ket.draw(output='latex')"
   ]
  },
  {
   "cell_type": "code",
   "execution_count": 3,
   "metadata": {},
   "outputs": [
    {
     "data": {
      "text/latex": [
       "$$ |00\\rangle$$"
      ],
      "text/plain": [
       "<IPython.core.display.Latex object>"
      ]
     },
     "execution_count": 3,
     "metadata": {},
     "output_type": "execute_result"
    }
   ],
   "source": [
    "qc.cx(0, 1)\n",
    "\n",
    "ket = Statevector(qc)\n",
    "ket.draw(output='latex')"
   ]
  },
  {
   "cell_type": "code",
   "execution_count": 4,
   "metadata": {},
   "outputs": [
    {
     "data": {
      "text/latex": [
       "$$ |00\\rangle$$"
      ],
      "text/plain": [
       "<IPython.core.display.Latex object>"
      ]
     },
     "execution_count": 4,
     "metadata": {},
     "output_type": "execute_result"
    }
   ],
   "source": [
    "qc.cx(1, 0)\n",
    "\n",
    "ket = Statevector(qc)\n",
    "ket.draw(output='latex')"
   ]
  },
  {
   "cell_type": "code",
   "execution_count": 5,
   "metadata": {},
   "outputs": [
    {
     "data": {
      "text/latex": [
       "$$ |10\\rangle$$"
      ],
      "text/plain": [
       "<IPython.core.display.Latex object>"
      ]
     },
     "execution_count": 5,
     "metadata": {},
     "output_type": "execute_result"
    }
   ],
   "source": [
    "qc.x(1)\n",
    "\n",
    "ket = Statevector(qc)\n",
    "ket.draw(output='latex')"
   ]
  },
  {
   "cell_type": "code",
   "execution_count": 6,
   "metadata": {},
   "outputs": [
    {
     "data": {
      "text/latex": [
       "$$ |11\\rangle$$"
      ],
      "text/plain": [
       "<IPython.core.display.Latex object>"
      ]
     },
     "execution_count": 6,
     "metadata": {},
     "output_type": "execute_result"
    }
   ],
   "source": [
    "qc.cx(1, 0)\n",
    "\n",
    "ket = Statevector(qc)\n",
    "ket.draw(output='latex')"
   ]
  },
  {
   "cell_type": "code",
   "execution_count": 7,
   "metadata": {},
   "outputs": [
    {
     "data": {
      "text/latex": [
       "$$\\frac{\\sqrt{2}}{2} |00\\rangle+\\frac{\\sqrt{2}}{2} |10\\rangle$$"
      ],
      "text/plain": [
       "<IPython.core.display.Latex object>"
      ]
     },
     "execution_count": 7,
     "metadata": {},
     "output_type": "execute_result"
    }
   ],
   "source": [
    "# Let's create a fresh circuit\n",
    "qc = QuantumCircuit(2)\n",
    "\n",
    "qc.h(1)\n",
    "\n",
    "ket = Statevector(qc)\n",
    "ket.draw(output='latex')"
   ]
  },
  {
   "cell_type": "code",
   "execution_count": 8,
   "metadata": {},
   "outputs": [
    {
     "data": {
      "text/latex": [
       "$$\\frac{\\sqrt{2}}{2} |00\\rangle+\\frac{\\sqrt{2}}{2} |11\\rangle$$"
      ],
      "text/plain": [
       "<IPython.core.display.Latex object>"
      ]
     },
     "execution_count": 8,
     "metadata": {},
     "output_type": "execute_result"
    }
   ],
   "source": [
    "qc.cx(1, 0)\n",
    "\n",
    "ket = Statevector(qc)\n",
    "ket.draw(output='latex')"
   ]
  },
  {
   "cell_type": "code",
   "execution_count": 10,
   "metadata": {},
   "outputs": [
    {
     "data": {
      "text/latex": [
       "$$\\frac{1}{2} |00\\rangle+\\frac{1}{2} |01\\rangle+\\frac{1}{2} |10\\rangle+\\frac{1}{2} |11\\rangle$$"
      ],
      "text/plain": [
       "<IPython.core.display.Latex object>"
      ]
     },
     "execution_count": 10,
     "metadata": {},
     "output_type": "execute_result"
    }
   ],
   "source": [
    "qc = QuantumCircuit(2)\n",
    "\n",
    "qc.h(0)\n",
    "qc.h(1)\n",
    "\n",
    "ket = Statevector(qc)\n",
    "ket.draw(output='latex')"
   ]
  },
  {
   "cell_type": "code",
   "execution_count": 11,
   "metadata": {},
   "outputs": [
    {
     "data": {
      "text/latex": [
       "$$\\frac{1}{2} |00\\rangle+\\frac{1}{2} |01\\rangle+\\frac{1}{2} |10\\rangle+\\frac{1}{2} |11\\rangle$$"
      ],
      "text/plain": [
       "<IPython.core.display.Latex object>"
      ]
     },
     "execution_count": 11,
     "metadata": {},
     "output_type": "execute_result"
    }
   ],
   "source": [
    "qc.cx(1, 0)\n",
    "\n",
    "ket = Statevector(qc)\n",
    "ket.draw(output='latex')"
   ]
  },
  {
   "cell_type": "code",
   "execution_count": 12,
   "metadata": {},
   "outputs": [
    {
     "data": {
      "text/latex": [
       "$$\\frac{1}{2} |00\\rangle- \\frac{1}{2} |01\\rangle+\\frac{1}{2} |10\\rangle- \\frac{1}{2} |11\\rangle$$"
      ],
      "text/plain": [
       "<IPython.core.display.Latex object>"
      ]
     },
     "execution_count": 12,
     "metadata": {},
     "output_type": "execute_result"
    }
   ],
   "source": [
    "qc.z(0)\n",
    "\n",
    "ket = Statevector(qc)\n",
    "ket.draw(output='latex')"
   ]
  },
  {
   "cell_type": "code",
   "execution_count": 13,
   "metadata": {},
   "outputs": [
    {
     "data": {
      "text/latex": [
       "$$\\frac{1}{2} |00\\rangle- \\frac{1}{2} |01\\rangle- \\frac{1}{2} |10\\rangle+\\frac{1}{2} |11\\rangle$$"
      ],
      "text/plain": [
       "<IPython.core.display.Latex object>"
      ]
     },
     "execution_count": 13,
     "metadata": {},
     "output_type": "execute_result"
    }
   ],
   "source": [
    "qc.cx(1, 0)\n",
    "\n",
    "ket = Statevector(qc)\n",
    "ket.draw(output='latex')"
   ]
  },
  {
   "attachments": {},
   "cell_type": "markdown",
   "metadata": {},
   "source": [
    "# Superdense coding"
   ]
  },
  {
   "cell_type": "code",
   "execution_count": 21,
   "metadata": {},
   "outputs": [],
   "source": [
    "# The message\n",
    "MESSAGE = '00'\n",
    "\n",
    "# ALice encodes the message\n",
    "qc_alice = QuantumCircuit(2, 2)\n",
    "if MESSAGE[-1] == '1':\n",
    "    qc_alice.x(0)\n",
    "if MESSAGE[-2] == '1':\n",
    "    qc_alice.x(1)"
   ]
  },
  {
   "cell_type": "code",
   "execution_count": 22,
   "metadata": {},
   "outputs": [
    {
     "data": {
      "text/plain": [
       "{'00': 1024}"
      ]
     },
     "execution_count": 22,
     "metadata": {},
     "output_type": "execute_result"
    }
   ],
   "source": [
    "from qiskit import Aer\n",
    "backend = Aer.get_backend('aer_simulator')\n",
    "\n",
    "# Bob measures\n",
    "qc_bob = QuantumCircuit(2, 2)\n",
    "qc_bob.measure([0, 1], [0, 1])\n",
    "\n",
    "backend.run(qc_alice.compose(qc_bob)).result().get_counts()"
   ]
  },
  {
   "attachments": {},
   "cell_type": "markdown",
   "metadata": {},
   "source": [
    "> This was a 'normal' way to do it\n",
    "\n",
    "> Now let's see another method"
   ]
  },
  {
   "cell_type": "code",
   "execution_count": 27,
   "metadata": {},
   "outputs": [
    {
     "data": {
      "text/latex": [
       "$$\\frac{\\sqrt{2}}{2} |00\\rangle+\\frac{\\sqrt{2}}{2} |11\\rangle$$"
      ],
      "text/plain": [
       "<IPython.core.display.Latex object>"
      ]
     },
     "execution_count": 27,
     "metadata": {},
     "output_type": "execute_result"
    }
   ],
   "source": [
    "MESSAGE = '00'\n",
    "\n",
    "qc_alice = QuantumCircuit(2, 2)\n",
    "\n",
    "# Alice encodes the message\n",
    "if MESSAGE[-1] == '1':\n",
    "    qc_alice.x(0)\n",
    "if MESSAGE[-2] == '1':\n",
    "    qc_alice.x(1)\n",
    "    \n",
    "# then she creates an entangled states\n",
    "qc_alice.h(1)\n",
    "qc_alice.cx(1, 0)\n",
    "\n",
    "ket = Statevector(qc_alice)\n",
    "ket.draw(output='latex')"
   ]
  },
  {
   "cell_type": "code",
   "execution_count": 29,
   "metadata": {},
   "outputs": [
    {
     "data": {
      "image/png": "[encoded data removed]",
      "text/plain": [
       "<Figure size 454.517x284.278 with 1 Axes>"
      ]
     },
     "execution_count": 29,
     "metadata": {},
     "output_type": "execute_result"
    }
   ],
   "source": [
    "qc_bob = QuantumCircuit(2, 2)\n",
    "# Bob disentangles\n",
    "qc_bob.cx(1, 0)\n",
    "qc_bob.h(1)\n",
    "# Then measures\n",
    "qc_bob.measure([0, 1], [0, 1])\n",
    "\n",
    "qc_bob.draw(output='mpl')"
   ]
  },
  {
   "attachments": {},
   "cell_type": "markdown",
   "metadata": {},
   "source": [
    "-> Here we haven't any advantage to use entanglement"
   ]
  },
  {
   "cell_type": "code",
   "execution_count": 30,
   "metadata": {},
   "outputs": [
    {
     "data": {
      "text/latex": [
       "$$\\frac{\\sqrt{2}}{2} |00\\rangle+\\frac{\\sqrt{2}}{2} |11\\rangle$$"
      ],
      "text/plain": [
       "<IPython.core.display.Latex object>"
      ]
     },
     "execution_count": 30,
     "metadata": {},
     "output_type": "execute_result"
    }
   ],
   "source": [
    "MESSAGE = '00'\n",
    "\n",
    "qc_alice = QuantumCircuit(2, 2)\n",
    "qc_alice.h(1)\n",
    "qc_alice.cx(1, 0)\n",
    "\n",
    "if MESSAGE[-2] == '1':\n",
    "    qc_alice.z(1)\n",
    "if MESSAGE[-1] == '1':\n",
    "    qc_alice.x(1)\n",
    "    \n",
    "ket = Statevector(qc_alice)\n",
    "ket.draw(output='latex')"
   ]
  },
  {
   "cell_type": "code",
   "execution_count": 31,
   "metadata": {},
   "outputs": [
    {
     "data": {
      "text/plain": [
       "{'00': 1024}"
      ]
     },
     "execution_count": 31,
     "metadata": {},
     "output_type": "execute_result"
    }
   ],
   "source": [
    "backend.run(qc_alice.compose(qc_bob)).result().get_counts()"
   ]
  },
  {
   "cell_type": "code",
   "execution_count": 32,
   "metadata": {},
   "outputs": [
    {
     "data": {
      "image/png": "[encoded data removed]",
      "text/plain": [
       "<Figure size 287.294x284.278 with 1 Axes>"
      ]
     },
     "execution_count": 32,
     "metadata": {},
     "output_type": "execute_result"
    }
   ],
   "source": [
    "qc_charlie = QuantumCircuit(2, 2)\n",
    "\n",
    "qc_charlie.h(1)\n",
    "qc_charlie.cx(1, 0)\n",
    "\n",
    "qc_charlie.draw(output='mpl')"
   ]
  },
  {
   "cell_type": "code",
   "execution_count": 33,
   "metadata": {},
   "outputs": [],
   "source": [
    "MESSAGE = '01'\n",
    "\n",
    "qc_alice = QuantumCircuit(2, 2)\n",
    "\n",
    "if MESSAGE[-2] == '1':\n",
    "    qc_alice.z(1)\n",
    "if MESSAGE[-1] == '1':\n",
    "    qc_alice.x(1)"
   ]
  },
  {
   "cell_type": "code",
   "execution_count": 34,
   "metadata": {},
   "outputs": [
    {
     "data": {
      "text/plain": [
       "{'01': 1024}"
      ]
     },
     "execution_count": 34,
     "metadata": {},
     "output_type": "execute_result"
    }
   ],
   "source": [
    "complete_qc = qc_charlie.compose(qc_alice.compose(qc_bob))\n",
    "backend.run(complete_qc).result().get_counts()"
   ]
  },
  {
   "attachments": {},
   "cell_type": "markdown",
   "metadata": {},
   "source": [
    "## Exercice sur IBM"
   ]
  },
  {
   "cell_type": "code",
   "execution_count": 35,
   "metadata": {},
   "outputs": [
    {
     "name": "stderr",
     "output_type": "stream",
     "text": [
      "configrc.store_credentials:WARNING:2023-01-06 15:19:17,927: Credentials already present. Set overwrite=True to overwrite.\n"
     ]
    },
    {
     "name": "stdout",
     "output_type": "stream",
     "text": [
      "Running on ibmq_lima\n"
     ]
    }
   ],
   "source": [
    "from qiskit import QuantumCircuit\n",
    "\n",
    "from qiskit.providers.ibmq import IBMQ, least_busy\n",
    "IBMQ.save_account(token=\"1fe4ce1b8edb6b3beeb02b9d17f39551a5cff261a545b1ee19bef888399da4bba828527b74bcd4c2b3b670445a8748a2df010606ec942d43dadcdc3b25322234\")\n",
    "IBMQ.load_account()\n",
    "provider = IBMQ.get_provider('ibm-q')\n",
    "device = least_busy(\n",
    "            provider.backends(\n",
    "                filters= lambda x: not x.configuration().simulator\n",
    "            )\n",
    "        )\n",
    "print(f'Running on {device.name()}')\n",
    "\n",
    "from qiskit import transpile\n",
    "from qiskit.tools import job_monitor\n",
    "from qiskit.visualization import plot_histogram\n",
    "\n",
    "def encodeState(circuit, message):\n",
    "    circuit.h(1)\n",
    "    circuit.cx(1, 0)\n",
    "    if message[-2] == '1':\n",
    "        circuit.z(1)\n",
    "    if message[-1] == '1':\n",
    "        circuit.x(1)\n",
    "    return circuit"
   ]
  },
  {
   "cell_type": "code",
   "execution_count": 36,
   "metadata": {},
   "outputs": [
    {
     "name": "stdout",
     "output_type": "stream",
     "text": [
      "Job Status: job has successfully run\n"
     ]
    },
    {
     "data": {
      "image/png": "[encoded data removed]",
      "text/plain": [
       "<Figure size 700x500 with 1 Axes>"
      ]
     },
     "execution_count": 36,
     "metadata": {},
     "output_type": "execute_result"
    }
   ],
   "source": [
    "mess00 = encodeState(QuantumCircuit(2, 2), '00').compose(qc_bob)\n",
    "\n",
    "job_mess00 = device.run(transpile(mess00, device, optimization_level=3), shots=1024)\n",
    "job_monitor(job_mess00)\n",
    "plot_histogram(job_mess00.result().get_counts())"
   ]
  },
  {
   "cell_type": "code",
   "execution_count": 37,
   "metadata": {},
   "outputs": [
    {
     "name": "stdout",
     "output_type": "stream",
     "text": [
      "Job Status: job has successfully run\n"
     ]
    },
    {
     "data": {
      "image/png": "[encoded data removed]",
      "text/plain": [
       "<Figure size 700x500 with 1 Axes>"
      ]
     },
     "execution_count": 37,
     "metadata": {},
     "output_type": "execute_result"
    }
   ],
   "source": [
    "mess01 = encodeState(QuantumCircuit(2, 2), '01').compose(qc_bob)\n",
    "\n",
    "job_mess01 = device.run(transpile(mess01, device, optimization_level=3), shots=1024)\n",
    "job_monitor(job_mess01)\n",
    "plot_histogram(job_mess01.result().get_counts())"
   ]
  },
  {
   "cell_type": "code",
   "execution_count": 38,
   "metadata": {},
   "outputs": [
    {
     "name": "stdout",
     "output_type": "stream",
     "text": [
      "Job Status: job has successfully run\n"
     ]
    },
    {
     "data": {
      "image/png": "[encoded data removed]",
      "text/plain": [
       "<Figure size 700x500 with 1 Axes>"
      ]
     },
     "execution_count": 38,
     "metadata": {},
     "output_type": "execute_result"
    }
   ],
   "source": [
    "mess10 = encodeState(QuantumCircuit(2, 2), '10').compose(qc_bob)\n",
    "\n",
    "job_mess10 = device.run(transpile(mess10, device, optimization_level=3), shots=1024)\n",
    "job_monitor(job_mess10)\n",
    "plot_histogram(job_mess10.result().get_counts())"
   ]
  },
  {
   "cell_type": "code",
   "execution_count": 39,
   "metadata": {},
   "outputs": [
    {
     "name": "stdout",
     "output_type": "stream",
     "text": [
      "Job Status: job has successfully run\n"
     ]
    },
    {
     "data": {
      "image/png": "[encoded data removed]",
      "text/plain": [
       "<Figure size 700x500 with 1 Axes>"
      ]
     },
     "execution_count": 39,
     "metadata": {},
     "output_type": "execute_result"
    }
   ],
   "source": [
    "mess11 = encodeState(QuantumCircuit(2, 2), '11').compose(qc_bob)\n",
    "\n",
    "job_mess11 = device.run(transpile(mess11, device, optimization_level=3), shots=1024)\n",
    "job_monitor(job_mess11)\n",
    "plot_histogram(job_mess11.result().get_counts())"
   ]
  },
  {
   "attachments": {},
   "cell_type": "markdown",
   "metadata": {},
   "source": [
    "# Hardy Paradox"
   ]
  },
  {
   "cell_type": "code",
   "execution_count": 40,
   "metadata": {},
   "outputs": [
    {
     "data": {
      "image/png": "[encoded data removed]",
      "text/plain": [
       "<Figure size 269.064x200.667 with 1 Axes>"
      ]
     },
     "execution_count": 40,
     "metadata": {},
     "output_type": "execute_result"
    }
   ],
   "source": [
    "meas_x = QuantumCircuit(1, 1)\n",
    "meas_x.h(0)\n",
    "meas_x.measure(0, 0)\n",
    "\n",
    "meas_x.draw(output='mpl')"
   ]
  },
  {
   "cell_type": "code",
   "execution_count": 41,
   "metadata": {},
   "outputs": [
    {
     "data": {
      "image/png": "[encoded data removed]",
      "text/plain": [
       "<Figure size 185.453x200.667 with 1 Axes>"
      ]
     },
     "execution_count": 41,
     "metadata": {},
     "output_type": "execute_result"
    }
   ],
   "source": [
    "meas_z = QuantumCircuit(1, 1)\n",
    "meas_z.measure(0, 0)\n",
    "\n",
    "meas_z.draw(output='mpl')"
   ]
  },
  {
   "cell_type": "code",
   "execution_count": 42,
   "metadata": {},
   "outputs": [
    {
     "data": {
      "image/png": "[encoded data removed]",
      "text/plain": [
       "<Figure size 143.647x200.667 with 1 Axes>"
      ]
     },
     "execution_count": 42,
     "metadata": {},
     "output_type": "execute_result"
    }
   ],
   "source": [
    "qc = QuantumCircuit(1, 1)\n",
    "\n",
    "qc.draw(output='mpl')"
   ]
  },
  {
   "cell_type": "code",
   "execution_count": 43,
   "metadata": {},
   "outputs": [
    {
     "name": "stdout",
     "output_type": "stream",
     "text": [
      "Result from z measurment: {'0': 1024}\n"
     ]
    }
   ],
   "source": [
    "z_meas_counts = backend.run(qc.compose(meas_z)).result().get_counts()\n",
    "print('Result from z measurment:', z_meas_counts)"
   ]
  },
  {
   "cell_type": "code",
   "execution_count": 48,
   "metadata": {},
   "outputs": [
    {
     "name": "stdout",
     "output_type": "stream",
     "text": [
      "Result from x measurment: {'0': 515, '1': 509}\n"
     ]
    }
   ],
   "source": [
    "x_meas_counts = backend.run(qc.compose(meas_x)).result().get_counts()\n",
    "print('Result from x measurment:', x_meas_counts)"
   ]
  },
  {
   "cell_type": "code",
   "execution_count": 49,
   "metadata": {},
   "outputs": [
    {
     "data": {
      "image/png": "[encoded data removed]",
      "text/plain": [
       "<Figure size 185.453x200.667 with 1 Axes>"
      ]
     },
     "execution_count": 49,
     "metadata": {},
     "output_type": "execute_result"
    }
   ],
   "source": [
    "qc = QuantumCircuit(1, 1)\n",
    "qc.x(0)\n",
    "\n",
    "qc.draw(output='mpl')"
   ]
  },
  {
   "cell_type": "code",
   "execution_count": 52,
   "metadata": {},
   "outputs": [
    {
     "name": "stdout",
     "output_type": "stream",
     "text": [
      "Result from z measurment: {'1': 1024}\n",
      "Result from x measurment: {'1': 528, '0': 496}\n"
     ]
    }
   ],
   "source": [
    "for basis,circ in [('z', meas_z), ('x', meas_x)]:\n",
    "    print('Result from {} measurment:'.format(basis), backend.run(qc.compose(circ)).result().get_counts())"
   ]
  },
  {
   "cell_type": "code",
   "execution_count": 53,
   "metadata": {},
   "outputs": [
    {
     "data": {
      "image/png": "[encoded data removed]",
      "text/plain": [
       "<Figure size 185.453x200.667 with 1 Axes>"
      ]
     },
     "execution_count": 53,
     "metadata": {},
     "output_type": "execute_result"
    }
   ],
   "source": [
    "qc = QuantumCircuit(1, 1)\n",
    "qc.h(0)\n",
    "\n",
    "qc.draw(output='mpl')"
   ]
  },
  {
   "cell_type": "code",
   "execution_count": 54,
   "metadata": {},
   "outputs": [
    {
     "name": "stdout",
     "output_type": "stream",
     "text": [
      "Result from z measurment: {'1': 497, '0': 527}\n",
      "Result from x measurment: {'0': 1024}\n"
     ]
    }
   ],
   "source": [
    "for basis,circ in [('z', meas_z), ('x', meas_x)]:\n",
    "    print('Result from {} measurment:'.format(basis), backend.run(qc.compose(circ)).result().get_counts())"
   ]
  },
  {
   "cell_type": "code",
   "execution_count": 55,
   "metadata": {},
   "outputs": [
    {
     "data": {
      "image/png": "[encoded data removed]",
      "text/plain": [
       "<Figure size 185.453x200.667 with 1 Axes>"
      ]
     },
     "execution_count": 55,
     "metadata": {},
     "output_type": "execute_result"
    }
   ],
   "source": [
    "from math import pi\n",
    "\n",
    "qc = QuantumCircuit(1, 1)\n",
    "qc.ry(-pi/4, 0)\n",
    "\n",
    "qc.draw(output='mpl')"
   ]
  },
  {
   "cell_type": "code",
   "execution_count": 56,
   "metadata": {},
   "outputs": [
    {
     "name": "stdout",
     "output_type": "stream",
     "text": [
      "Result from z measurment: {'0': 854, '1': 170}\n",
      "Result from x measurment: {'1': 882, '0': 142}\n"
     ]
    }
   ],
   "source": [
    "for basis,circ in [('z', meas_z), ('x', meas_x)]:\n",
    "    print('Result from {} measurment:'.format(basis), backend.run(qc.compose(circ)).result().get_counts())"
   ]
  },
  {
   "attachments": {},
   "cell_type": "markdown",
   "metadata": {},
   "source": [
    "# Unique quantum correlations"
   ]
  },
  {
   "cell_type": "code",
   "execution_count": 57,
   "metadata": {},
   "outputs": [
    {
     "data": {
      "image/png": "[encoded data removed]",
      "text/plain": [
       "<Figure size 538.128x284.278 with 1 Axes>"
      ]
     },
     "execution_count": 57,
     "metadata": {},
     "output_type": "execute_result"
    }
   ],
   "source": [
    "qc_charlie = QuantumCircuit(2, 2)\n",
    "qc_charlie.ry(1.911, 1)\n",
    "qc_charlie.cx(1, 0)\n",
    "qc_charlie.ry(0.785, 0)\n",
    "qc_charlie.cx(1, 0)\n",
    "qc_charlie.ry(2.356, 0)\n",
    "\n",
    "qc_charlie.draw(output='mpl')"
   ]
  },
  {
   "cell_type": "code",
   "execution_count": 58,
   "metadata": {},
   "outputs": [
    {
     "data": {
      "text/plain": [
       "<qiskit.circuit.instructionset.InstructionSet at 0x1904849bdf0>"
      ]
     },
     "execution_count": 58,
     "metadata": {},
     "output_type": "execute_result"
    }
   ],
   "source": [
    "meas_zz = QuantumCircuit(2, 2)\n",
    "meas_zz.measure([0, 1], [0, 1])"
   ]
  },
  {
   "cell_type": "code",
   "execution_count": 61,
   "metadata": {},
   "outputs": [
    {
     "name": "stdout",
     "output_type": "stream",
     "text": [
      "Result from z measurments:\n"
     ]
    },
    {
     "data": {
      "image/png": "[encoded data removed]",
      "text/plain": [
       "<Figure size 700x500 with 1 Axes>"
      ]
     },
     "execution_count": 61,
     "metadata": {},
     "output_type": "execute_result"
    }
   ],
   "source": [
    "print('Result for z measurments:')\n",
    "counts = backend.run(qc_charlie.compose(meas_zz)).result().get_counts()\n",
    "plot_histogram(counts)"
   ]
  },
  {
   "cell_type": "code",
   "execution_count": 64,
   "metadata": {},
   "outputs": [
    {
     "name": "stdout",
     "output_type": "stream",
     "text": [
      "Result for a z and an x measurment:\n"
     ]
    },
    {
     "data": {
      "image/png": "[encoded data removed]",
      "text/plain": [
       "<Figure size 700x500 with 1 Axes>"
      ]
     },
     "execution_count": 64,
     "metadata": {},
     "output_type": "execute_result"
    }
   ],
   "source": [
    "meas_zx = QuantumCircuit(2, 2)\n",
    "meas_zx.h(0)\n",
    "meas_zx.measure([0, 1], [0, 1])\n",
    "\n",
    "print('Result for a z and an x measurment:')\n",
    "counts = backend.run(qc_charlie.compose(meas_zx)).result().get_counts()\n",
    "plot_histogram(counts)"
   ]
  },
  {
   "cell_type": "code",
   "execution_count": 65,
   "metadata": {},
   "outputs": [
    {
     "name": "stdout",
     "output_type": "stream",
     "text": [
      "Result for an x and a z measurment:\n"
     ]
    },
    {
     "data": {
      "image/png": "[encoded data removed]",
      "text/plain": [
       "<Figure size 700x500 with 1 Axes>"
      ]
     },
     "execution_count": 65,
     "metadata": {},
     "output_type": "execute_result"
    }
   ],
   "source": [
    "meas_xz = QuantumCircuit(2, 2)\n",
    "meas_xz.h(1)\n",
    "meas_xz.measure([0, 1], [0, 1])\n",
    "\n",
    "print('Result for an x and a z measurment:')\n",
    "counts = backend.run(qc_charlie.compose(meas_xz)).result().get_counts()\n",
    "plot_histogram(counts)"
   ]
  },
  {
   "cell_type": "code",
   "execution_count": 67,
   "metadata": {},
   "outputs": [
    {
     "name": "stdout",
     "output_type": "stream",
     "text": [
      "Result for an x and an x measurment:\n"
     ]
    },
    {
     "data": {
      "image/png": "[encoded data removed]",
      "text/plain": [
       "<Figure size 700x500 with 1 Axes>"
      ]
     },
     "execution_count": 67,
     "metadata": {},
     "output_type": "execute_result"
    }
   ],
   "source": [
    "meas_xx = QuantumCircuit(2, 2)\n",
    "meas_xx.h([0, 1])\n",
    "meas_xx.measure([0, 1], [0, 1])\n",
    "\n",
    "print('Result for an x and an x measurment:')\n",
    "counts = backend.run(qc_charlie.compose(meas_xx)).result().get_counts()\n",
    "plot_histogram(counts)"
   ]
  },
  {
   "cell_type": "code",
   "execution_count": 69,
   "metadata": {},
   "outputs": [
    {
     "data": {
      "text/html": [
       "<h3>Version Information</h3><table><tr><th>Qiskit Software</th><th>Version</th></tr><tr><td><code>qiskit-terra</code></td><td>0.22.3</td></tr><tr><td><code>qiskit-aer</code></td><td>0.11.2</td></tr><tr><td><code>qiskit-ibmq-provider</code></td><td>0.19.2</td></tr><tr><td><code>qiskit</code></td><td>0.39.4</td></tr><tr><th>System information</th></tr><tr><td>Python version</td><td>3.10.8</td></tr><tr><td>Python compiler</td><td>MSC v.1916 64 bit (AMD64)</td></tr><tr><td>Python build</td><td>main, Nov 24 2022 14:07:00</td></tr><tr><td>OS</td><td>Windows</td></tr><tr><td>CPUs</td><td>8</td></tr><tr><td>Memory (Gb)</td><td>15.923675537109375</td></tr><tr><td colspan='2'>Fri Jan 06 15:49:06 2023 Europe de l’Ouest</td></tr></table>"
      ],
      "text/plain": [
       "<IPython.core.display.HTML object>"
      ]
     },
     "metadata": {},
     "output_type": "display_data"
    }
   ],
   "source": [
    "import qiskit.tools.jupyter\n",
    "%qiskit_version_table"
   ]
  }
 ],
 "metadata": {
  "kernelspec": {
   "display_name": "qiskit",
   "language": "python",
   "name": "python3"
  },
  "language_info": {
   "codemirror_mode": {
    "name": "ipython",
    "version": 3
   },
   "file_extension": ".py",
   "mimetype": "text/x-python",
   "name": "python",
   "nbconvert_exporter": "python",
   "pygments_lexer": "ipython3",
   "version": "3.10.8 | packaged by conda-forge | (main, Nov 24 2022, 14:07:00) [MSC v.1916 64 bit (AMD64)]"
  },
  "orig_nbformat": 4,
  "vscode": {
   "interpreter": {
    "hash": "8ac250f5c06efe43a33b813f68ddc45d6fc74b88e11ac437a7c4f4be1526e100"
   }
  }
 },
 "nbformat": 4,
 "nbformat_minor": 2
}
