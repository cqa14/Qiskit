{
 "cells": [
  {
   "attachments": {},
   "cell_type": "markdown",
   "metadata": {},
   "source": [
    "# Bell test for classic variable"
   ]
  },
  {
   "cell_type": "code",
   "execution_count": 5,
   "metadata": {},
   "outputs": [],
   "source": [
    "import random\n",
    "def setup_variables():\n",
    "    \n",
    "    ### Replace this section with anything you want ###\n",
    "    \n",
    "    r = random.random()\n",
    "    \n",
    "    A = r*(2/3)\n",
    "    B = r*(1/3)\n",
    "    \n",
    "    ### End of section ###\n",
    "    \n",
    "    return A, B"
   ]
  },
  {
   "cell_type": "code",
   "execution_count": 6,
   "metadata": {},
   "outputs": [],
   "source": [
    "def hash2bit(variable, hash_type):\n",
    "    \n",
    "    ### Replace this section with anything you want ###\n",
    "    \n",
    "    if hash_type == 'V':\n",
    "        bit = (variable < 0.5)\n",
    "    elif hash_type == 'H':\n",
    "        bit = (variable < 0.25)\n",
    "    \n",
    "    bit = str(int(bit)) # Turn True or False into '1' or '0' \n",
    "    \n",
    "    ### End of section ###\n",
    "    \n",
    "    return bit"
   ]
  },
  {
   "cell_type": "code",
   "execution_count": 7,
   "metadata": {},
   "outputs": [],
   "source": [
    "shots = 8192\n",
    "def calculate_P():\n",
    "    P = {}\n",
    "    for hashes in ['VV', 'VH', 'HV', 'HH']:\n",
    "        \n",
    "        # calculate each P[hashes] by sampling over 'shots'\n",
    "        P[hashes] = 0\n",
    "        for shot in range(shots):\n",
    "            \n",
    "            A, B = setup_variables()\n",
    "            \n",
    "            # hash type for 'A' is the 1st letter of 'hashes'\n",
    "            a = hash2bit(A, hashes[0])\n",
    "            # hash type for 'A' is the 2nd letter of 'hashes'\n",
    "            b = hash2bit(B, hashes[1])\n",
    "            \n",
    "            P[hashes] += (a != b)/shots\n",
    "    \n",
    "    return P"
   ]
  },
  {
   "cell_type": "code",
   "execution_count": 9,
   "metadata": {},
   "outputs": [
    {
     "name": "stdout",
     "output_type": "stream",
     "text": [
      "{'VV': 0.2540283203125, 'VH': 0.0, 'HV': 0.6229248046875, 'HH': 0.3709716796875}\n"
     ]
    }
   ],
   "source": [
    "P = calculate_P()\n",
    "print(P)"
   ]
  },
  {
   "cell_type": "code",
   "execution_count": 10,
   "metadata": {},
   "outputs": [],
   "source": [
    "def bell_test(P):\n",
    "    sum_P = sum(P.values())\n",
    "    for hashes in P:\n",
    "        \n",
    "        bound = sum_P - P[hashes]\n",
    "        \n",
    "        print(\"The upper bound for P['{}'] is {}.\".format(hashes, bound))\n",
    "        print(\"The value of P['{}'] is {}.\".format(hashes, P[hashes]))\n",
    "        if P[hashes] <= bound:\n",
    "            print(\"The upper bound is obeyed :)\\n\")\n",
    "        else:\n",
    "            if P[hashes]-bound < 0.1:\n",
    "                print(\"This seems to have gone over the upper bound, \"\n",
    "                      \"but only by a little bit :S\\nProbably just rounding\"\n",
    "                      \" errors or statistical noise.\\n\")\n",
    "            else:\n",
    "                print(\"This has gone over the upper bound :(\\n\")"
   ]
  },
  {
   "cell_type": "code",
   "execution_count": 11,
   "metadata": {},
   "outputs": [
    {
     "name": "stdout",
     "output_type": "stream",
     "text": [
      "The upper bound for P['VV'] is 0.993896484375.\n",
      "The value of P['VV'] is 0.2540283203125.\n",
      "The upper bound is obeyed :)\n",
      "\n",
      "The upper bound for P['VH'] is 1.2479248046875.\n",
      "The value of P['VH'] is 0.0.\n",
      "The upper bound is obeyed :)\n",
      "\n",
      "The upper bound for P['HV'] is 0.625.\n",
      "The value of P['HV'] is 0.6229248046875.\n",
      "The upper bound is obeyed :)\n",
      "\n",
      "The upper bound for P['HH'] is 0.876953125.\n",
      "The value of P['HH'] is 0.3709716796875.\n",
      "The upper bound is obeyed :)\n",
      "\n"
     ]
    }
   ],
   "source": [
    "bell_test(P)"
   ]
  },
  {
   "attachments": {},
   "cell_type": "markdown",
   "metadata": {},
   "source": [
    "# Bell test for quantum variables"
   ]
  },
  {
   "cell_type": "code",
   "execution_count": 17,
   "metadata": {},
   "outputs": [],
   "source": [
    "from qiskit import QuantumCircuit, QuantumRegister, ClassicalRegister\n",
    "\n",
    "def initialize_program():\n",
    "    qubit = QuantumRegister(2)\n",
    "    A = qubit[0]\n",
    "    B = qubit[1]\n",
    "    \n",
    "    bit = ClassicalRegister(2)\n",
    "    a = bit[0]\n",
    "    b = bit[1]\n",
    "    \n",
    "    qc = QuantumCircuit(qubit, bit)\n",
    "    \n",
    "    return  A, B, a, b, qc"
   ]
  },
  {
   "cell_type": "code",
   "execution_count": 18,
   "metadata": {},
   "outputs": [],
   "source": [
    "def hash2bit(variable, hash_type, bit, qc):\n",
    "    if hash_type == 'H':\n",
    "        qc.h(variable)\n",
    "    qc.measure(variable, bit)"
   ]
  },
  {
   "cell_type": "code",
   "execution_count": 19,
   "metadata": {},
   "outputs": [],
   "source": [
    "import numpy as np\n",
    "\n",
    "puzzle_program = ['qc.h(A)','qc.cz(A,B)','qc.ry(np.pi/4,B)','qc.ry(np.pi/4,A)','qc.cz(A,B)','qc.x(A)','qc.cz(A,B)','qc.h(B)','qc.cz(A,B)','qc.ry(np.pi/4,B)','qc.cz(A,B)','qc.cz(A,B)','qc.x(B)','qc.x(A)','qc.ry(np.pi/4,B)','qc.ry(np.pi/4,A)','qc.cz(A,B)','qc.h(B)']\n",
    "\n",
    "def setup_variables(A, B, qc):\n",
    "    for line in puzzle_program:\n",
    "        eval(line)"
   ]
  },
  {
   "cell_type": "code",
   "execution_count": 20,
   "metadata": {},
   "outputs": [],
   "source": [
    "shots = 8192\n",
    "from qiskit import assemble, transpile\n",
    "\n",
    "def calculate_P(backend):\n",
    "    P = {}\n",
    "    program = {}\n",
    "    for hashes in ['VV', 'VH', 'HV', 'HH']:\n",
    "        \n",
    "        A, B, a, b, program[hashes] = initialize_program()\n",
    "        \n",
    "        setup_variables(A, B, program[hashes])\n",
    "        \n",
    "        hash2bit(A, hashes[0], a, program[hashes])\n",
    "        hash2bit(B, hashes[1], b, program[hashes])\n",
    "        \n",
    "    # submit jobs\n",
    "    t_qcs = transpile(list(program.values()), backend)\n",
    "    qobj = assemble(t_qcs, shots=shots)\n",
    "    job = backend.run(qobj)\n",
    "    \n",
    "    # get results\n",
    "    for hashes in ['VV', 'VH', 'HV', 'HH']:\n",
    "        stats = job.result().get_counts(program[hashes])\n",
    "        \n",
    "        P[hashes] = 0\n",
    "        for string in stats.keys():\n",
    "            a = string[-1]\n",
    "            b = string[-2]\n",
    "            \n",
    "            if a != b:\n",
    "                P[hashes] += stats[string]/shots\n",
    "                \n",
    "    return P"
   ]
  },
  {
   "cell_type": "code",
   "execution_count": 21,
   "metadata": {},
   "outputs": [],
   "source": [
    "from qiskit import Aer\n",
    "backend = Aer.get_backend('aer_simulator')"
   ]
  },
  {
   "cell_type": "code",
   "execution_count": 22,
   "metadata": {},
   "outputs": [
    {
     "name": "stdout",
     "output_type": "stream",
     "text": [
      "{'VV': 0.252197265625, 'VH': 0.424560546875, 'HV': 0.2484130859375, 'HH': 0.927978515625}\n"
     ]
    }
   ],
   "source": [
    "P = calculate_P(backend)\n",
    "print(P)"
   ]
  },
  {
   "cell_type": "code",
   "execution_count": 23,
   "metadata": {},
   "outputs": [
    {
     "name": "stdout",
     "output_type": "stream",
     "text": [
      "The upper bound for P['VV'] is 1.6009521484375.\n",
      "The value of P['VV'] is 0.252197265625.\n",
      "The upper bound is obeyed :)\n",
      "\n",
      "The upper bound for P['VH'] is 1.4285888671875.\n",
      "The value of P['VH'] is 0.424560546875.\n",
      "The upper bound is obeyed :)\n",
      "\n",
      "The upper bound for P['HV'] is 1.604736328125.\n",
      "The value of P['HV'] is 0.2484130859375.\n",
      "The upper bound is obeyed :)\n",
      "\n",
      "The upper bound for P['HH'] is 0.9251708984375.\n",
      "The value of P['HH'] is 0.927978515625.\n",
      "This seems to have gone over the upper bound, but only by a little bit :S\n",
      "Probably just rounding errors or statistical noise.\n",
      "\n"
     ]
    }
   ],
   "source": [
    "bell_test(P)"
   ]
  }
 ],
 "metadata": {
  "kernelspec": {
   "display_name": "qiskit",
   "language": "python",
   "name": "python3"
  },
  "language_info": {
   "codemirror_mode": {
    "name": "ipython",
    "version": 3
   },
   "file_extension": ".py",
   "mimetype": "text/x-python",
   "name": "python",
   "nbconvert_exporter": "python",
   "pygments_lexer": "ipython3",
   "version": "3.10.8"
  },
  "orig_nbformat": 4,
  "vscode": {
   "interpreter": {
    "hash": "8ac250f5c06efe43a33b813f68ddc45d6fc74b88e11ac437a7c4f4be1526e100"
   }
  }
 },
 "nbformat": 4,
 "nbformat_minor": 2
}
