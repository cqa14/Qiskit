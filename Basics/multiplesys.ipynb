{
 "cells": [
  {
   "cell_type": "code",
   "execution_count": 23,
   "metadata": {},
   "outputs": [],
   "source": [
    "from qiskit.quantum_info import Statevector, Operator"
   ]
  },
  {
   "cell_type": "code",
   "execution_count": 24,
   "metadata": {},
   "outputs": [
    {
     "data": {
      "text/latex": [
       "$$ |01\\rangle$$"
      ],
      "text/plain": [
       "<IPython.core.display.Latex object>"
      ]
     },
     "execution_count": 24,
     "metadata": {},
     "output_type": "execute_result"
    }
   ],
   "source": [
    "zero, one = Statevector.from_label('0'), Statevector.from_label('1')\n",
    "zero.tensor(one).draw('latex') # returns |0><1|"
   ]
  },
  {
   "cell_type": "code",
   "execution_count": 25,
   "metadata": {},
   "outputs": [
    {
     "data": {
      "text/latex": [
       "$$\\frac{1}{2} |00\\rangle+\\frac{i}{2} |01\\rangle+\\frac{1}{2} |10\\rangle+\\frac{i}{2} |11\\rangle$$"
      ],
      "text/plain": [
       "<IPython.core.display.Latex object>"
      ]
     },
     "execution_count": 25,
     "metadata": {},
     "output_type": "execute_result"
    }
   ],
   "source": [
    "from numpy import sqrt\n",
    "plus = Statevector.from_label('+')\n",
    "i_state = Statevector([1/sqrt(2), 1j/sqrt(2)])\n",
    "\n",
    "psi = plus.tensor(i_state)\n",
    "psi.draw('latex')"
   ]
  },
  {
   "cell_type": "code",
   "execution_count": 26,
   "metadata": {},
   "outputs": [
    {
     "data": {
      "text/plain": [
       "Operator([[0.+0.j, 0.+0.j, 1.+0.j, 0.+0.j],\n",
       "          [0.+0.j, 0.+0.j, 0.+0.j, 1.+0.j],\n",
       "          [1.+0.j, 0.+0.j, 0.+0.j, 0.+0.j],\n",
       "          [0.+0.j, 1.+0.j, 0.+0.j, 0.+0.j]],\n",
       "         input_dims=(2, 2), output_dims=(2, 2))"
      ]
     },
     "execution_count": 26,
     "metadata": {},
     "output_type": "execute_result"
    }
   ],
   "source": [
    "X = Operator([[0, 1], [1, 0]])\n",
    "\n",
    "I = Operator([[1, 0], [0, 1]])\n",
    "\n",
    "X.tensor(I)"
   ]
  },
  {
   "cell_type": "code",
   "execution_count": 27,
   "metadata": {},
   "outputs": [
    {
     "data": {
      "text/latex": [
       "$$\\frac{i}{2} |00\\rangle+\\frac{1}{2} |01\\rangle+\\frac{i}{2} |10\\rangle+\\frac{1}{2} |11\\rangle$$"
      ],
      "text/plain": [
       "<IPython.core.display.Latex object>"
      ]
     },
     "execution_count": 27,
     "metadata": {},
     "output_type": "execute_result"
    }
   ],
   "source": [
    "psi.evolve(I ^ X).draw('latex')"
   ]
  },
  {
   "cell_type": "code",
   "execution_count": 28,
   "metadata": {},
   "outputs": [
    {
     "data": {
      "text/latex": [
       "$$\\frac{1}{2} |00\\rangle+\\frac{i}{2} |01\\rangle+\\frac{i}{2} |10\\rangle+\\frac{1}{2} |11\\rangle$$"
      ],
      "text/plain": [
       "<IPython.core.display.Latex object>"
      ]
     },
     "execution_count": 28,
     "metadata": {},
     "output_type": "execute_result"
    }
   ],
   "source": [
    "CNOT = Operator([[1, 0, 0, 0], [0, 1, 0, 0], [0, 0, 0, 1], [0, 0, 1, 0]])\n",
    "\n",
    "psi.evolve(CNOT).draw('latex')"
   ]
  },
  {
   "attachments": {},
   "cell_type": "markdown",
   "metadata": {},
   "source": [
    "> Challenge : Can you create each of the Bell states using only single-qubit state vectors and the CNOT operator?"
   ]
  },
  {
   "cell_type": "code",
   "execution_count": 36,
   "metadata": {},
   "outputs": [
    {
     "data": {
      "text/latex": [
       "$$\\frac{\\sqrt{2}}{2} |0\\rangle+\\frac{\\sqrt{2}}{2} |1\\rangle$$"
      ],
      "text/plain": [
       "<IPython.core.display.Latex object>"
      ]
     },
     "metadata": {},
     "output_type": "display_data"
    },
    {
     "data": {
      "text/latex": [
       "$$ |0\\rangle$$"
      ],
      "text/plain": [
       "<IPython.core.display.Latex object>"
      ]
     },
     "metadata": {},
     "output_type": "display_data"
    },
    {
     "data": {
      "text/latex": [
       "$$\\frac{\\sqrt{2}}{2} |00\\rangle+\\frac{\\sqrt{2}}{2} |11\\rangle$$"
      ],
      "text/plain": [
       "<IPython.core.display.Latex object>"
      ]
     },
     "execution_count": 36,
     "metadata": {},
     "output_type": "execute_result"
    }
   ],
   "source": [
    "# |phi +> = (|00> + |11>) / sqrt(2)\n",
    "\n",
    "H = Operator([[1, 1], [1, -1]]) / sqrt(2)\n",
    "Z = Operator([[1, 0], [0, -1]])\n",
    "\n",
    "v = one.evolve(H).evolve(Z)\n",
    "w = zero\n",
    "\n",
    "display(v.draw('latex'))\n",
    "display(w.draw('latex'))\n",
    "((v ^ w).evolve(CNOT)).draw('latex')"
   ]
  },
  {
   "cell_type": "code",
   "execution_count": 37,
   "metadata": {},
   "outputs": [
    {
     "data": {
      "text/latex": [
       "$$\\frac{\\sqrt{2}}{2} |0\\rangle- \\frac{\\sqrt{2}}{2} |1\\rangle$$"
      ],
      "text/plain": [
       "<IPython.core.display.Latex object>"
      ]
     },
     "metadata": {},
     "output_type": "display_data"
    },
    {
     "data": {
      "text/latex": [
       "$$ |0\\rangle$$"
      ],
      "text/plain": [
       "<IPython.core.display.Latex object>"
      ]
     },
     "metadata": {},
     "output_type": "display_data"
    },
    {
     "data": {
      "text/latex": [
       "$$\\frac{\\sqrt{2}}{2} |00\\rangle- \\frac{\\sqrt{2}}{2} |11\\rangle$$"
      ],
      "text/plain": [
       "<IPython.core.display.Latex object>"
      ]
     },
     "execution_count": 37,
     "metadata": {},
     "output_type": "execute_result"
    }
   ],
   "source": [
    "# |phi -> = (|00> - |11>) / sqrt(2)\n",
    "\n",
    "v = one.evolve(H)\n",
    "w = zero\n",
    "\n",
    "display(v.draw('latex'))\n",
    "display(w.draw('latex'))\n",
    "((v ^ w).evolve(CNOT)).draw('latex')"
   ]
  },
  {
   "cell_type": "code",
   "execution_count": 41,
   "metadata": {},
   "outputs": [
    {
     "data": {
      "text/latex": [
       "$$\\frac{\\sqrt{2}}{2} |0\\rangle+\\frac{\\sqrt{2}}{2} |1\\rangle$$"
      ],
      "text/plain": [
       "<IPython.core.display.Latex object>"
      ]
     },
     "metadata": {},
     "output_type": "display_data"
    },
    {
     "data": {
      "text/latex": [
       "$$ |1\\rangle$$"
      ],
      "text/plain": [
       "<IPython.core.display.Latex object>"
      ]
     },
     "metadata": {},
     "output_type": "display_data"
    },
    {
     "data": {
      "text/latex": [
       "$$\\frac{\\sqrt{2}}{2} |01\\rangle+\\frac{\\sqrt{2}}{2} |10\\rangle$$"
      ],
      "text/plain": [
       "<IPython.core.display.Latex object>"
      ]
     },
     "execution_count": 41,
     "metadata": {},
     "output_type": "execute_result"
    }
   ],
   "source": [
    "# |psi +> = (|01> + |10>) / sqrt(2)\n",
    "\n",
    "X = Operator([[0, 1], [1, 0]])\n",
    "\n",
    "v = one.evolve(X).evolve(H)\n",
    "w = one\n",
    "\n",
    "display(v.draw('latex'))\n",
    "display(w.draw('latex'))\n",
    "((v ^ w).evolve(CNOT)).draw('latex')"
   ]
  },
  {
   "cell_type": "code",
   "execution_count": 42,
   "metadata": {},
   "outputs": [
    {
     "data": {
      "text/latex": [
       "$$\\frac{\\sqrt{2}}{2} |0\\rangle- \\frac{\\sqrt{2}}{2} |1\\rangle$$"
      ],
      "text/plain": [
       "<IPython.core.display.Latex object>"
      ]
     },
     "metadata": {},
     "output_type": "display_data"
    },
    {
     "data": {
      "text/latex": [
       "$$ |1\\rangle$$"
      ],
      "text/plain": [
       "<IPython.core.display.Latex object>"
      ]
     },
     "metadata": {},
     "output_type": "display_data"
    },
    {
     "data": {
      "text/latex": [
       "$$\\frac{\\sqrt{2}}{2} |01\\rangle- \\frac{\\sqrt{2}}{2} |10\\rangle$$"
      ],
      "text/plain": [
       "<IPython.core.display.Latex object>"
      ]
     },
     "execution_count": 42,
     "metadata": {},
     "output_type": "execute_result"
    }
   ],
   "source": [
    "# |psi -> = (|01> - |10>) / sqrt(2)\n",
    "\n",
    "v = one.evolve(H)\n",
    "w = one\n",
    "\n",
    "display(v.draw('latex'))\n",
    "display(w.draw('latex'))\n",
    "((v ^ w).evolve(CNOT)).draw('latex')"
   ]
  },
  {
   "attachments": {},
   "cell_type": "markdown",
   "metadata": {},
   "source": [
    "> We continue the lesson"
   ]
  },
  {
   "cell_type": "code",
   "execution_count": 44,
   "metadata": {},
   "outputs": [
    {
     "data": {
      "text/latex": [
       "$$\\frac{\\sqrt{3}}{3} |001\\rangle+\\frac{\\sqrt{3}}{3} |010\\rangle+\\frac{\\sqrt{3}}{3} |100\\rangle$$"
      ],
      "text/plain": [
       "<IPython.core.display.Latex object>"
      ]
     },
     "execution_count": 44,
     "metadata": {},
     "output_type": "execute_result"
    }
   ],
   "source": [
    "from numpy import sqrt\n",
    "W = Statevector([0, 1, 1, 0, 1, 0, 0, 0]/sqrt(3))\n",
    "W.draw('latex')"
   ]
  },
  {
   "cell_type": "code",
   "execution_count": 49,
   "metadata": {},
   "outputs": [
    {
     "name": "stdout",
     "output_type": "stream",
     "text": [
      "Measured: 0\n",
      "State after measurement:\n"
     ]
    },
    {
     "data": {
      "text/latex": [
       "$$\\frac{\\sqrt{2}}{2} |010\\rangle+\\frac{\\sqrt{2}}{2} |100\\rangle$$"
      ],
      "text/plain": [
       "<IPython.core.display.Latex object>"
      ]
     },
     "execution_count": 49,
     "metadata": {},
     "output_type": "execute_result"
    }
   ],
   "source": [
    "result, new_sv = W.measure([0]) # measure qubit 0\n",
    "print(f'Measured: {result}\\nState after measurement:')\n",
    "new_sv.draw('latex')"
   ]
  },
  {
   "attachments": {},
   "cell_type": "markdown",
   "metadata": {},
   "source": [
    "> Explore: Say you applied an H-gate to the rightmost qubit of the W-state before measuring it. What would the probabilities of the two outcomes be? And what would the resulting state of the other qubits be for each of these outcomes?"
   ]
  },
  {
   "cell_type": "code",
   "execution_count": 64,
   "metadata": {},
   "outputs": [
    {
     "name": "stdout",
     "output_type": "stream",
     "text": [
      "Measured: 1\n",
      "State after measurement:\n"
     ]
    },
    {
     "data": {
      "text/latex": [
       "$$\\frac{\\sqrt{2}}{2} |001\\rangle+\\frac{\\sqrt{2}}{2} |101\\rangle$$"
      ],
      "text/plain": [
       "<IPython.core.display.Latex object>"
      ]
     },
     "execution_count": 64,
     "metadata": {},
     "output_type": "execute_result"
    }
   ],
   "source": [
    "I = Operator([[1, 0], [0, 1]])\n",
    "H_33 = H.tensor(I).tensor(I)\n",
    "\n",
    "W_p = W.evolve(H_33)\n",
    "W_p.draw('latex')\n",
    "\n",
    "result, new_sv = W_p.measure([0]) # measure qubit 0\n",
    "print(f'Measured: {result}\\nState after measurement:')\n",
    "new_sv.draw('latex')"
   ]
  },
  {
   "cell_type": "code",
   "execution_count": 65,
   "metadata": {},
   "outputs": [
    {
     "data": {
      "text/html": [
       "<h3>Version Information</h3><table><tr><th>Qiskit Software</th><th>Version</th></tr><tr><td><code>qiskit-terra</code></td><td>0.22.3</td></tr><tr><td><code>qiskit-aer</code></td><td>0.11.2</td></tr><tr><td><code>qiskit-ibmq-provider</code></td><td>0.19.2</td></tr><tr><td><code>qiskit</code></td><td>0.39.4</td></tr><tr><th>System information</th></tr><tr><td>Python version</td><td>3.10.8</td></tr><tr><td>Python compiler</td><td>MSC v.1916 64 bit (AMD64)</td></tr><tr><td>Python build</td><td>main, Nov 24 2022 14:07:00</td></tr><tr><td>OS</td><td>Windows</td></tr><tr><td>CPUs</td><td>8</td></tr><tr><td>Memory (Gb)</td><td>15.923675537109375</td></tr><tr><td colspan='2'>Sun Jan 08 16:24:54 2023 Europe de l’Ouest</td></tr></table>"
      ],
      "text/plain": [
       "<IPython.core.display.HTML object>"
      ]
     },
     "metadata": {},
     "output_type": "display_data"
    }
   ],
   "source": [
    "import qiskit.tools.jupyter\n",
    "%qiskit_version_table"
   ]
  }
 ],
 "metadata": {
  "kernelspec": {
   "display_name": "qiskit",
   "language": "python",
   "name": "python3"
  },
  "language_info": {
   "codemirror_mode": {
    "name": "ipython",
    "version": 3
   },
   "file_extension": ".py",
   "mimetype": "text/x-python",
   "name": "python",
   "nbconvert_exporter": "python",
   "pygments_lexer": "ipython3",
   "version": "3.10.8 | packaged by conda-forge | (main, Nov 24 2022, 14:07:00) [MSC v.1916 64 bit (AMD64)]"
  },
  "orig_nbformat": 4,
  "vscode": {
   "interpreter": {
    "hash": "8ac250f5c06efe43a33b813f68ddc45d6fc74b88e11ac437a7c4f4be1526e100"
   }
  }
 },
 "nbformat": 4,
 "nbformat_minor": 2
}
